{
 "cells": [
  {
   "cell_type": "code",
   "execution_count": 2,
   "metadata": {},
   "outputs": [
    {
     "name": "stdout",
     "output_type": "stream",
     "text": [
      "Collecting psycopg2\n",
      "  Obtaining dependency information for psycopg2 from https://files.pythonhosted.org/packages/37/2c/5133dd3183a3bd82371569f0dd783e6927672de7e671b278ce248810b7f7/psycopg2-2.9.9-cp311-cp311-win_amd64.whl.metadata\n",
      "  Downloading psycopg2-2.9.9-cp311-cp311-win_amd64.whl.metadata (4.5 kB)\n",
      "Downloading psycopg2-2.9.9-cp311-cp311-win_amd64.whl (1.2 MB)\n",
      "   ---------------------------------------- 0.0/1.2 MB ? eta -:--:--\n",
      "   ---------------------------------------- 0.0/1.2 MB ? eta -:--:--\n",
      "   ---------------------------------------- 0.0/1.2 MB ? eta -:--:--\n",
      "   -- ------------------------------------- 0.1/1.2 MB 812.7 kB/s eta 0:00:02\n",
      "   ----- ---------------------------------- 0.2/1.2 MB 1.3 MB/s eta 0:00:01\n",
      "   ------- -------------------------------- 0.2/1.2 MB 1.4 MB/s eta 0:00:01\n",
      "   ----------- ---------------------------- 0.3/1.2 MB 1.7 MB/s eta 0:00:01\n",
      "   -------------- ------------------------- 0.4/1.2 MB 1.7 MB/s eta 0:00:01\n",
      "   ----------------- ---------------------- 0.5/1.2 MB 1.7 MB/s eta 0:00:01\n",
      "   ------------------- -------------------- 0.6/1.2 MB 1.7 MB/s eta 0:00:01\n",
      "   ---------------------- ----------------- 0.6/1.2 MB 1.8 MB/s eta 0:00:01\n",
      "   ----------------------- ---------------- 0.7/1.2 MB 1.8 MB/s eta 0:00:01\n",
      "   --------------------------- ------------ 0.8/1.2 MB 1.8 MB/s eta 0:00:01\n",
      "   ------------------------------ --------- 0.9/1.2 MB 1.8 MB/s eta 0:00:01\n",
      "   ----------------------------------- ---- 1.0/1.2 MB 1.9 MB/s eta 0:00:01\n",
      "   ---------------------------------------  1.2/1.2 MB 2.0 MB/s eta 0:00:01\n",
      "   ---------------------------------------- 1.2/1.2 MB 2.0 MB/s eta 0:00:00\n",
      "Installing collected packages: psycopg2\n",
      "Successfully installed psycopg2-2.9.9\n"
     ]
    },
    {
     "name": "stderr",
     "output_type": "stream",
     "text": [
      "DEPRECATION: Loading egg at c:\\users\\shrey\\anaconda3\\lib\\site-packages\\openapi_client-1.0.0-py3.11.egg is deprecated. pip 23.3 will enforce this behaviour change. A possible replacement is to use pip for package installation..\n"
     ]
    }
   ],
   "source": [
    "!pip install psycopg2"
   ]
  },
  {
   "cell_type": "code",
   "execution_count": 1,
   "metadata": {},
   "outputs": [],
   "source": [
    "from datetime import datetime\n",
    "import pandas as pd"
   ]
  },
  {
   "cell_type": "code",
   "execution_count": null,
   "metadata": {},
   "outputs": [],
   "source": [
    "data = {'id': 1,\n",
    " 'data': {'contact': {'name': 'abhishek paithane',\n",
    "   'profile_link': 'linkedin.com/in/abhishek-paithane-a617a3119',\n",
    "   'Website': None,\n",
    "   'Email': None,\n",
    "   'IM': None,\n",
    "   'Birthday': None,\n",
    "   'Connected': None,\n",
    "   'Address': None,\n",
    "   'Phone': None},\n",
    "  'connections': '500+ connections',\n",
    "  'followers': '1,812',\n",
    "  'about': 'Passionate about developing well engineered software systems;)',\n",
    "  'experience': [{'role': 'SDE',\n",
    "    'company': 'Amazon',\n",
    "    'job_type': 'Full-time',\n",
    "    'from': datetime.datetime(2022, 7, 1, 0, 0),\n",
    "    'to': datetime.datetime(2024, 4, 1, 0, 0),\n",
    "    'duration': 22},\n",
    "   {'role': 'Software Development Engineer',\n",
    "    'company': 'Swiggy',\n",
    "    'job_type': 'Full-time',\n",
    "    'from': datetime.datetime(2021, 12, 1, 0, 0),\n",
    "    'to': datetime.datetime(2022, 6, 1, 0, 0),\n",
    "    'duration': 7},\n",
    "   {'role': 'Software Development Engineer',\n",
    "    'company': 'AppDirect',\n",
    "    'job_type': 'Full-time',\n",
    "    'from': datetime.datetime(2021, 7, 1, 0, 0),\n",
    "    'to': datetime.datetime(2021, 12, 1, 0, 0),\n",
    "    'duration': 6},\n",
    "   {'role': 'Tavisca, A cxLoyalty company',\n",
    "    'company': 'Full-time',\n",
    "    'job_type': '2 yrs 1 mo',\n",
    "    'from': datetime.datetime(2020, 7, 1, 0, 0),\n",
    "    'to': datetime.datetime(2021, 7, 1, 0, 0),\n",
    "    'duration': 13}],\n",
    "  'education': [{'college': \"Pimpri Chinchwad Education Trust'S. Pimpri Chinchwad College Of Engineering\",\n",
    "    'degree': 'Bachelor of Engineering, Computer Software Engineering',\n",
    "    'from': '2015',\n",
    "    'to': '2019'},\n",
    "   {'college': 'Maratha Highschool nasik',\n",
    "    'degree': 'ssc, highschool studies',\n",
    "    'from': '2008',\n",
    "    'to': '2013'}],\n",
    "  'certification': [{'cert_name': 'Kafka for Developers using Spring BootKafka for Developers using Spring Boot',\n",
    "    'cert_org': '\\nUdemy',\n",
    "    'cert_issued': datetime.datetime(2020, 7, 1, 0, 0),\n",
    "    'cert_link': 'https://www.udemy.com/certificate/UC-007edb32-a038-4e52-90f2-f40638496ec1/'},\n",
    "   {'cert_name': 'Kafka for Developers using Spring BootKafka for Developers using Spring Boot',\n",
    "    'cert_org': '\\nUdemy',\n",
    "    'cert_issued': datetime.datetime(2020, 7, 1, 0, 0),\n",
    "    'cert_link': 'https://www.udemy.com/certificate/UC-007edb32-a038-4e52-90f2-f40638496ec1/'},\n",
    "   {'cert_name': 'Kafka for Developers using Spring BootKafka for Developers using Spring Boot',\n",
    "    'cert_org': '\\nUdemy',\n",
    "    'cert_issued': datetime.datetime(2020, 7, 1, 0, 0),\n",
    "    'cert_link': 'https://www.udemy.com/certificate/UC-007edb32-a038-4e52-90f2-f40638496ec1/'},\n",
    "   {'cert_name': 'Kafka for Developers using Spring BootKafka for Developers using Spring Boot',\n",
    "    'cert_org': '\\nUdemy',\n",
    "    'cert_issued': datetime.datetime(2020, 7, 1, 0, 0),\n",
    "    'cert_link': 'https://www.udemy.com/certificate/UC-007edb32-a038-4e52-90f2-f40638496ec1/'}],\n",
    "  'skills': ['Microservices',\n",
    "   'HTML',\n",
    "   'C++',\n",
    "   'Spring Webflux',\n",
    "   'Spring Framework',\n",
    "   'Data Structures',\n",
    "   'Software Design Patterns',\n",
    "   'Object-Oriented Programming (OOP)',\n",
    "   'competitive programming',\n",
    "   'Low-Level Design',\n",
    "   'computer networks',\n",
    "   'Java',\n",
    "   'design patterns',\n",
    "   'Algorithms',\n",
    "   'Spring Boot',\n",
    "   'java',\n",
    "   'High-Level Design',\n",
    "   'Angular',\n",
    "   'Operating system',\n",
    "   'javascript',\n",
    "   'React.js',\n",
    "   'C',\n",
    "   'c++ language programming'],\n",
    "  'languages': [{'language': None, 'profiency': None}],\n",
    "  'awards': [{'award_name': 'ACM ICPC Kanpur Onsite Contest Participation',\n",
    "    'org': 'Issued by Association Of Computer Machinery',\n",
    "    'date': datetime.datetime(2017, 12, 1, 0, 0)}]}}"
   ]
  },
  {
   "cell_type": "code",
   "execution_count": null,
   "metadata": {},
   "outputs": [],
   "source": []
  }
 ],
 "metadata": {
  "kernelspec": {
   "display_name": "linkedin_scraper_env",
   "language": "python",
   "name": "python3"
  },
  "language_info": {
   "codemirror_mode": {
    "name": "ipython",
    "version": 3
   },
   "file_extension": ".py",
   "mimetype": "text/x-python",
   "name": "python",
   "nbconvert_exporter": "python",
   "pygments_lexer": "ipython3",
   "version": "3.12.2"
  }
 },
 "nbformat": 4,
 "nbformat_minor": 2
}
