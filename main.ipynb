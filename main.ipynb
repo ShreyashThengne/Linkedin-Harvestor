{
 "cells": [
  {
   "cell_type": "code",
   "execution_count": 543,
   "metadata": {},
   "outputs": [],
   "source": [
    "import selenium\n",
    "from selenium import webdriver\n",
    "from selenium.webdriver.support.ui import WebDriverWait\n",
    "from selenium.webdriver.support import expected_conditions as ec\n",
    "from selenium.webdriver.common.action_chains import ActionChains\n",
    "from selenium.webdriver.common.keys import Keys\n",
    "from bs4 import BeautifulSoup\n",
    "from selenium.webdriver.common.by import By\n",
    "import time\n",
    "from datetime import datetime"
   ]
  },
  {
   "cell_type": "code",
   "execution_count": 673,
   "metadata": {},
   "outputs": [],
   "source": [
    "driver = webdriver.Edge()\n",
    "driver.get('https://www.linkedin.com/login')"
   ]
  },
  {
   "cell_type": "code",
   "execution_count": 674,
   "metadata": {},
   "outputs": [],
   "source": [
    "username = \"shreyashthengne@gmail.com\"\n",
    "pw = \"Qwerasdf@2003&\""
   ]
  },
  {
   "cell_type": "code",
   "execution_count": 675,
   "metadata": {},
   "outputs": [],
   "source": [
    "driver.find_element(By.ID, \"username\").send_keys(username)\n",
    "driver.find_element(By.ID, \"password\").send_keys(pw)\n",
    "driver.find_element(By.CLASS_NAME, \"login__form_action_container\").click()"
   ]
  },
  {
   "cell_type": "markdown",
   "metadata": {},
   "source": [
    "# Extracting user profile data"
   ]
  },
  {
   "cell_type": "code",
   "execution_count": 676,
   "metadata": {},
   "outputs": [],
   "source": [
    "driver.find_element(By.XPATH, '/html/body/div[5]/div[3]/div/div/div[2]/div/div/div/div/div[1]/div[1]/a').click()"
   ]
  },
  {
   "cell_type": "code",
   "execution_count": 677,
   "metadata": {},
   "outputs": [],
   "source": [
    "def nested_list_to_dict(l):\n",
    "    d = {}\n",
    "    for i in l:\n",
    "        d[i[0]] = i[1]\n",
    "    return d"
   ]
  },
  {
   "cell_type": "markdown",
   "metadata": {},
   "source": [
    "Get Contact INFO"
   ]
  },
  {
   "cell_type": "code",
   "execution_count": 678,
   "metadata": {},
   "outputs": [],
   "source": [
    "name_related_data = driver.find_element(By.CLASS_NAME, \"YFSfxlnCoALrcxZcdsGecfbthcLuxrPpFA\").text.split('\\n')\n",
    "name = name_related_data[0]\n",
    "pronouns = name_related_data[1]\n",
    "\n",
    "driver.find_element(By.ID, \"top-card-text-details-contact-info\").click()\n",
    "obj_list = WebDriverWait(driver, 10).until(ec.presence_of_all_elements_located((By.CLASS_NAME, \"pv-contact-info__contact-type\")))\n",
    "contact_info = []\n",
    "for sel_obj in obj_list:\n",
    "    contact_info.append(sel_obj.text.split(\"\\n\"))\n",
    "try:\n",
    "    contact_info.remove(['Birthday'])\n",
    "except:\n",
    "    pass\n",
    "\n",
    "actions = ActionChains(driver)\n",
    "actions.send_keys(Keys.ESCAPE).perform()\n",
    "contact_info_dict = nested_list_to_dict(contact_info)\n",
    "contact_info_dict['name'] = name\n",
    "contact_info_dict['pronouns'] = pronouns\n",
    "# contact_info_dict"
   ]
  },
  {
   "cell_type": "markdown",
   "metadata": {},
   "source": [
    "Getting About Section Text"
   ]
  },
  {
   "cell_type": "code",
   "execution_count": 679,
   "metadata": {},
   "outputs": [],
   "source": [
    "actions = ActionChains(driver)"
   ]
  },
  {
   "cell_type": "code",
   "execution_count": 680,
   "metadata": {},
   "outputs": [],
   "source": [
    "about = driver.find_elements(By.CLASS_NAME, \"UBNjRtiGpOBMCdHNiTtJimrddrsdVzA\")[1].text"
   ]
  },
  {
   "cell_type": "code",
   "execution_count": 681,
   "metadata": {},
   "outputs": [
    {
     "data": {
      "text/plain": [
       "[<selenium.webdriver.remote.webelement.WebElement (session=\"1edabd1e7f698002982f2ca12c6fa987\", element=\"f.273404F8415425DC30F76A46288C7785.d.FB8F5D19512BD28D6E4CFBE872B62179.e.242\")>]"
      ]
     },
     "execution_count": 681,
     "metadata": {},
     "output_type": "execute_result"
    }
   ],
   "source": [
    "# connections = driver.find_element(By.ID, 'ember450').text\n",
    "driver.find_elements(By.XPATH, '/html/body/div[5]/div[3]/div/div/div[2]/div/div/main/section[1]/div[2]/ul')"
   ]
  },
  {
   "cell_type": "code",
   "execution_count": 682,
   "metadata": {},
   "outputs": [],
   "source": [
    "driver.find_element(By.ID, 'global-nav-search').click()\n",
    "actions.send_keys(\"amazon sde\").send_keys(Keys.ENTER).perform()\n",
    "WebDriverWait(driver, 10).until(ec.presence_of_all_elements_located((By.CLASS_NAME, \"search-reusables__primary-filter\")))[0].click()\n",
    "actions.send_keys(Keys.ESCAPE).perform()"
   ]
  },
  {
   "cell_type": "code",
   "execution_count": 685,
   "metadata": {},
   "outputs": [],
   "source": [
    "driver.find_element(By.CLASS_NAME, 'reusable-search__result-container').click()"
   ]
  },
  {
   "cell_type": "code",
   "execution_count": 696,
   "metadata": {},
   "outputs": [],
   "source": [
    "name_related_data = driver.find_element(By.CLASS_NAME, \"YFSfxlnCoALrcxZcdsGecfbthcLuxrPpFA\").text.split('\\n')\n",
    "name = name_related_data[0]\n",
    "\n",
    "driver.find_element(By.ID, \"top-card-text-details-contact-info\").click()\n",
    "obj_list = WebDriverWait(driver, 10).until(ec.presence_of_all_elements_located((By.CLASS_NAME, \"pv-contact-info__contact-type\")))\n",
    "contact_info = []\n",
    "for sel_obj in obj_list:\n",
    "    contact_info.append(sel_obj.text.split(\"\\n\"))\n",
    "try:\n",
    "    contact_info.remove(['Birthday'])\n",
    "except:\n",
    "    pass\n",
    "    \n",
    "\n",
    "actions = ActionChains(driver)\n",
    "actions.send_keys(Keys.ESCAPE).perform()\n",
    "contact_info_dict = nested_list_to_dict(contact_info)\n",
    "contact_info_dict['name'] = name"
   ]
  },
  {
   "cell_type": "code",
   "execution_count": 697,
   "metadata": {},
   "outputs": [
    {
     "data": {
      "text/plain": [
       "{'abhishek’s Profile': 'linkedin.com/in/abhishek-paithane-a617a3119',\n",
       " 'name': 'abhishek paithane'}"
      ]
     },
     "execution_count": 697,
     "metadata": {},
     "output_type": "execute_result"
    }
   ],
   "source": [
    "contact_info_dict"
   ]
  },
  {
   "cell_type": "code",
   "execution_count": 563,
   "metadata": {},
   "outputs": [],
   "source": [
    "source_code = driver.page_source\n",
    "soup = BeautifulSoup(source_code, 'html.parser')"
   ]
  },
  {
   "cell_type": "code",
   "execution_count": 564,
   "metadata": {},
   "outputs": [],
   "source": [
    "connections = soup.find('ul', {'class', \"AVBFDyqTfsuTgIZXdCfRksCUrxiXXUGBgrQ ARBouGUeqZjIUscRznwDQyGWDCzezcaOPhbnA\"}).text.strip()\n",
    "followers = soup.find('p', {'class', 'rIGQerBSNRmmmzDMQKpqMZqBKoJtRwJlYno pvs-header__optional-link text-body-small'}).text.strip().split('followers')[0][:-1]\n",
    "\n",
    "about = soup.find('div', {'class', \"display-flex ph5 pv3\"}).text.strip()"
   ]
  },
  {
   "cell_type": "code",
   "execution_count": 619,
   "metadata": {},
   "outputs": [],
   "source": [
    "cards = soup.find_all('section', {\"class\": \"artdeco-card pv-profile-card break-words mt2\"})"
   ]
  },
  {
   "cell_type": "markdown",
   "metadata": {},
   "source": [
    "Experience"
   ]
  },
  {
   "cell_type": "code",
   "execution_count": 620,
   "metadata": {},
   "outputs": [],
   "source": [
    "# try:\n",
    "# except:\n",
    "#     pass\n",
    "for i in cards:\n",
    "    if i.find('div', {'id':'experience'}) != None:\n",
    "        all_exp = i\n",
    "        break\n",
    "all_exp = all_exp.find_all('li', {'class', 'artdeco-list__item MSekCOdsooFvletAzszqqmePbnkuYRoes YzGwfSNcLHPUoUUgVvMgQPXaOYiNMqbzVPKTGC'})\n",
    "\n",
    "def extract_exp_data(sample):\n",
    "    '''\n",
    "    role, company, job_type, from, to, duration\n",
    "    '''\n",
    "    role = sample.find('div', {'class', 'display-flex flex-wrap align-items-center full-height'}).text.strip()\n",
    "    role = role[:len(role)//2]\n",
    "\n",
    "    company_and_job_type = sample.find('span', {'class', 't-14 t-normal'}).text.strip()\n",
    "    company_and_job_type = company_and_job_type[:len(company_and_job_type)//2].split(\" · \")\n",
    "    company = company_and_job_type[0]\n",
    "    # print(company_and_job_type)\n",
    "    job_type = company_and_job_type[1]\n",
    "\n",
    "    period, duration = sample.find('span', {'class', \"pvs-entity__caption-wrapper\"}).text.split(' · ')\n",
    "    period = period.split(\" - \")\n",
    "    \n",
    "    try:\n",
    "        duration = int(duration.split(\" \")[0]) * 12 + int(duration.split(\" \")[2])\n",
    "    except:\n",
    "        duration = int(duration.split(\" \")[0])\n",
    "\n",
    "    try:\n",
    "        period = {'from': datetime.strptime(period[0], \"%b %Y\"), 'to': datetime.strptime(period[1], \"%b %Y\")}\n",
    "    except:\n",
    "        period = {'from': datetime.strptime(period[0], \"%b %Y\"), 'to': datetime.strptime(datetime.now().strftime(\"%b %Y\"), \"%b %Y\")}\n",
    "    return {'role':role, 'company':company, 'job_type':job_type, 'from':period['from'], 'to':period['to'], 'duration':duration}\n",
    "\n",
    "all_experiences = []\n",
    "for i in  all_exp:\n",
    "    all_experiences.append(extract_exp_data(i))"
   ]
  },
  {
   "cell_type": "code",
   "execution_count": 621,
   "metadata": {},
   "outputs": [
    {
     "data": {
      "text/plain": [
       "[{'role': 'SDE',\n",
       "  'company': 'Amazon',\n",
       "  'job_type': 'Full-time',\n",
       "  'from': datetime.datetime(2022, 7, 1, 0, 0),\n",
       "  'to': datetime.datetime(2024, 4, 1, 0, 0),\n",
       "  'duration': 22},\n",
       " {'role': 'Software Development Engineer',\n",
       "  'company': 'Swiggy',\n",
       "  'job_type': 'Full-time',\n",
       "  'from': datetime.datetime(2021, 12, 1, 0, 0),\n",
       "  'to': datetime.datetime(2022, 6, 1, 0, 0),\n",
       "  'duration': 7},\n",
       " {'role': 'Software Development Engineer',\n",
       "  'company': 'AppDirect',\n",
       "  'job_type': 'Full-time',\n",
       "  'from': datetime.datetime(2021, 7, 1, 0, 0),\n",
       "  'to': datetime.datetime(2021, 12, 1, 0, 0),\n",
       "  'duration': 6},\n",
       " {'role': 'Tavisca, A cxLoyalty company',\n",
       "  'company': 'Full-time',\n",
       "  'job_type': '2 yrs 1 mo',\n",
       "  'from': datetime.datetime(2020, 7, 1, 0, 0),\n",
       "  'to': datetime.datetime(2021, 7, 1, 0, 0),\n",
       "  'duration': 13}]"
      ]
     },
     "execution_count": 621,
     "metadata": {},
     "output_type": "execute_result"
    }
   ],
   "source": [
    "all_experiences"
   ]
  },
  {
   "cell_type": "markdown",
   "metadata": {},
   "source": [
    "Education"
   ]
  },
  {
   "cell_type": "code",
   "execution_count": 617,
   "metadata": {},
   "outputs": [
    {
     "data": {
      "text/plain": [
       "[{'college': \"Pimpri Chinchwad Education Trust'S. Pimpri Chinchwad College Of Engineering\",\n",
       "  'degree': 'Bachelor of Engineering, Computer Software Engineering',\n",
       "  'from': '2015',\n",
       "  'to': '2019'},\n",
       " {'college': 'Maratha Highschool nasik',\n",
       "  'degree': 'ssc, highschool studies',\n",
       "  'from': '2008',\n",
       "  'to': '2013'}]"
      ]
     },
     "execution_count": 617,
     "metadata": {},
     "output_type": "execute_result"
    }
   ],
   "source": [
    "# all_edu = soup.find_all('div', {'class', 'pvs-list__outer-container'})[7].find_all('li')\n",
    "for i in soup.find_all('section', {\"class\": \"artdeco-card pv-profile-card break-words mt2\"}):\n",
    "    if i.find('div', {'id':'education'}) != None:\n",
    "        all_edu = i\n",
    "        break\n",
    "\n",
    "\n",
    "all_edu = all_edu.find_all('li', {'class', 'artdeco-list__item MSekCOdsooFvletAzszqqmePbnkuYRoes YzGwfSNcLHPUoUUgVvMgQPXaOYiNMqbzVPKTGC'})\n",
    "\n",
    "def extract_education_data(sample):\n",
    "    '''\n",
    "    college, degree, period\n",
    "    '''\n",
    "    college = sample.find('div', {'class', 'display-flex flex-wrap align-items-center full-height'}).text.strip()\n",
    "    college = college[:len(college)//2]\n",
    "    degree = sample.find('span', {'class', 't-14 t-normal'}).text.strip()\n",
    "    degree = degree[:len(degree)//2]\n",
    "    period = sample.find('span', {'class', 'pvs-entity__caption-wrapper'}).text.strip().split(\" - \")\n",
    "    period = {'from': period[0], 'to': period[1]}\n",
    "    return {'college':college, 'degree':degree, 'from':period['from'], 'to':period['to']}\n",
    "\n",
    "all_education = []\n",
    "for i in  all_edu:\n",
    "    all_education.append(extract_education_data(i))\n",
    "all_education"
   ]
  },
  {
   "cell_type": "markdown",
   "metadata": {},
   "source": [
    "Certifications"
   ]
  },
  {
   "cell_type": "code",
   "execution_count": 631,
   "metadata": {},
   "outputs": [],
   "source": [
    "\n",
    "def extract_certifications(sample):\n",
    "    '''\n",
    "    name, org, issued, link\n",
    "    '''\n",
    "    sample = all_certs[0]\n",
    "    name = sample.find('div', {'class', 'display-flex flex-wrap align-items-center full-height'}).text.strip()\n",
    "    organization = sample.find('span', {'class', 't-14 t-normal'}).text\n",
    "    organization = organization[:len(organization)//2]\n",
    "    issued = datetime.strptime(sample.find('span', {'class', 'pvs-entity__caption-wrapper'}).text.split(\"Issued\")[1].strip(), '%b %Y')\n",
    "    link = sample.find('a', {'class', 'optional-action-target-wrapper artdeco-button artdeco-button--secondary artdeco-button--standard artdeco-button--2 artdeco-button--muted inline-flex justify-center align-self-flex-start button-placement-wrap'}).get('href')\n",
    "    return {'cert_name':name, 'cert_org': organization, 'cert_issued':issued, 'cert_link':link}\n",
    "\n",
    "try:\n",
    "    driver.find_element(By.ID, 'navigation-index-see-all-licenses-and-certifications').click()\n",
    "    soup = BeautifulSoup(driver.page_source, 'html.parser')\n",
    "    all_certs = soup.find_all('li', {'class', 'pvs-list__paged-list-item artdeco-list__item pvs-list__item--line-separated pvs-list__item--one-column'})\n",
    "\n",
    "except:\n",
    "    for i in cards:\n",
    "        if i.find('div', {'id':'licenses_and_certifications'}) != None:\n",
    "            all_certs = i\n",
    "            break\n",
    "    all_certs = all_certs.find_all('li', {'class', 'artdeco-list__item MSekCOdsooFvletAzszqqmePbnkuYRoes YzGwfSNcLHPUoUUgVvMgQPXaOYiNMqbzVPKTGC'})\n",
    "    all_certs\n",
    "all_certification = []\n",
    "for i in  all_certs:\n",
    "    all_certification.append(extract_certifications(i))"
   ]
  },
  {
   "cell_type": "markdown",
   "metadata": {},
   "source": [
    "Skills"
   ]
  },
  {
   "cell_type": "code",
   "execution_count": 665,
   "metadata": {},
   "outputs": [
    {
     "data": {
      "text/plain": [
       "['Software Design Patterns',\n",
       " 'Object-Oriented Programming (OOP)',\n",
       " 'React.js',\n",
       " 'javascript',\n",
       " 'HTML',\n",
       " 'java',\n",
       " 'c++ language programming',\n",
       " 'Spring Webflux',\n",
       " 'computer networks',\n",
       " 'C++',\n",
       " 'C',\n",
       " 'Microservices',\n",
       " 'Operating system',\n",
       " 'Angular',\n",
       " 'Low-Level Design',\n",
       " 'Spring Boot',\n",
       " 'Algorithms',\n",
       " 'Java',\n",
       " 'Spring Framework',\n",
       " 'competitive programming',\n",
       " 'design patterns',\n",
       " 'High-Level Design',\n",
       " 'Data Structures']"
      ]
     },
     "execution_count": 665,
     "metadata": {},
     "output_type": "execute_result"
    }
   ],
   "source": [
    "# def extrcat_skills(sample):\n",
    "driver.get(driver.current_url+'details/skills/')\n",
    "soup = BeautifulSoup(driver.page_source, 'html.parser')\n",
    "all_skills = soup.find_all('li', {'class', 'pvs-list__paged-list-item artdeco-list__item pvs-list__item--line-separated pvs-list__item--one-column'})\n",
    "def extract_skills(sample):\n",
    "    '''\n",
    "    skill\n",
    "    '''\n",
    "    skill = sample.find('div', {'class':\"display-flex flex-wrap align-items-center full-height\"}).text.strip()\n",
    "    skill = skill[:len(skill)//2]\n",
    "    return skill\n",
    "\n",
    "skills = []\n",
    "for i in all_skills:\n",
    "    skills.append(extract_skills(i))\n",
    "skills = list(set(skills))\n",
    "skills"
   ]
  },
  {
   "cell_type": "code",
   "execution_count": 651,
   "metadata": {},
   "outputs": [],
   "source": []
  }
 ],
 "metadata": {
  "kernelspec": {
   "display_name": "linkedin_scraper_env",
   "language": "python",
   "name": "python3"
  },
  "language_info": {
   "codemirror_mode": {
    "name": "ipython",
    "version": 3
   },
   "file_extension": ".py",
   "mimetype": "text/x-python",
   "name": "python",
   "nbconvert_exporter": "python",
   "pygments_lexer": "ipython3",
   "version": "3.12.2"
  }
 },
 "nbformat": 4,
 "nbformat_minor": 2
}
